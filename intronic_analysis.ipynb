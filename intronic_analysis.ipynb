{
 "cells": [
  {
   "cell_type": "code",
   "execution_count": 2,
   "metadata": {},
   "outputs": [],
   "source": [
    "import numpy as np\n",
    "import pandas\n",
    "import scanpy as sc\n",
    "import anndata\n",
    "import json\n",
    "import matplotlib.pyplot as plt\n",
    "import scvelo as scv\n",
    "import os\n",
    "import requests\n",
    "import shutil\n",
    "import boto3\n",
    "import scanpy as sc"
   ]
  },
  {
   "cell_type": "markdown",
   "metadata": {},
   "source": [
    "# Nascent transcript (intronic reads) analysis"
   ]
  },
  {
   "cell_type": "markdown",
   "metadata": {},
   "source": [
    "First we load the data"
   ]
  },
  {
   "cell_type": "code",
   "execution_count": 3,
   "metadata": {},
   "outputs": [],
   "source": [
    "adata = sc.read_loom(\"/home/ubuntu/jupyter/count_matrices/filtered.loom\")"
   ]
  },
  {
   "cell_type": "code",
   "execution_count": 4,
   "metadata": {
    "scrolled": false
   },
   "outputs": [],
   "source": [
    "adata.obs.index = [i.split(\":\")[-1][:-len(\".noduplicates.sam\")] for i in adata.obs.index]"
   ]
  },
  {
   "cell_type": "code",
   "execution_count": 5,
   "metadata": {},
   "outputs": [],
   "source": [
    "keys = [\"m1\", \"m3\", \"m5\"]"
   ]
  },
  {
   "cell_type": "code",
   "execution_count": 6,
   "metadata": {},
   "outputs": [],
   "source": [
    "data = {}\n",
    "for key in keys:\n",
    "    data[key] = adata[[key in i for i in adata.obs.index], :]"
   ]
  },
  {
   "cell_type": "code",
   "execution_count": 7,
   "metadata": {},
   "outputs": [
    {
     "data": {
      "text/plain": [
       "{'m1': View of AnnData object with n_obs × n_vars = 4 × 46904 \n",
       "     var: 'Accession', 'Chromosome', 'End', 'Start', 'Strand'\n",
       "     layers: 'matrix', 'ambiguous', 'spanning', 'spliced', 'unspliced',\n",
       " 'm3': View of AnnData object with n_obs × n_vars = 4 × 46904 \n",
       "     var: 'Accession', 'Chromosome', 'End', 'Start', 'Strand'\n",
       "     layers: 'matrix', 'ambiguous', 'spanning', 'spliced', 'unspliced',\n",
       " 'm5': View of AnnData object with n_obs × n_vars = 4 × 46904 \n",
       "     var: 'Accession', 'Chromosome', 'End', 'Start', 'Strand'\n",
       "     layers: 'matrix', 'ambiguous', 'spanning', 'spliced', 'unspliced'}"
      ]
     },
     "execution_count": 7,
     "metadata": {},
     "output_type": "execute_result"
    }
   ],
   "source": [
    "data"
   ]
  },
  {
   "cell_type": "code",
   "execution_count": 8,
   "metadata": {},
   "outputs": [],
   "source": [
    "results = {}\n",
    "for key, matrix in data.items():\n",
    "    results_list = results.setdefault(key, [])\n",
    "    for i in range(matrix.shape[0]):\n",
    "        result = sorted(zip(matrix.layers[\"unspliced\"].toarray()[i, :], matrix.var.index), reverse=True)\n",
    "        filtered_result = [i for i in result if i[0] > 10]\n",
    "        results_list.append(filtered_result)"
   ]
  },
  {
   "cell_type": "code",
   "execution_count": 9,
   "metadata": {},
   "outputs": [],
   "source": [
    "genes_per_celltype = {}\n",
    "for key in keys:\n",
    "    gene_sets = []\n",
    "    for result_list in results[key]:\n",
    "        gene_sets.append(set([i[1] for i in result_list]))\n",
    "    genes_per_celltype[key] = set.intersection(*gene_sets)"
   ]
  },
  {
   "cell_type": "markdown",
   "metadata": {},
   "source": [
    "# Find genes which are consistently intronically expressed across all cells within a group (at a cutoff of >10 intronic reads, and >10 spliced reads)"
   ]
  },
  {
   "cell_type": "code",
   "execution_count": 12,
   "metadata": {},
   "outputs": [
    {
     "name": "stdout",
     "output_type": "stream",
     "text": [
      "m1\n",
      "{'vha-13', 'ssl-1', 'T21B10.3', 'Y43F8C.6', 'unc-62', 'pqn-80', 'atgl-1', 'hum-2', 'alg-5', 'B0432.8', 'K06B9.2', 'bet-1', 'ZC506.1', 'F40E10.6', 'Y51F10.2', 'unc-73', 'K10D3.4'}\n",
      "vha-13\n",
      "ssl-1\n",
      "T21B10.3\n",
      "Y43F8C.6\n",
      "unc-62\n",
      "pqn-80\n",
      "atgl-1\n",
      "hum-2\n",
      "alg-5\n",
      "B0432.8\n",
      "K06B9.2\n",
      "bet-1\n",
      "ZC506.1\n",
      "F40E10.6\n",
      "Y51F10.2\n",
      "unc-73\n",
      "K10D3.4\n",
      "m3\n",
      "{'vha-13', 'T21B10.3', 'Y43F8C.6', 'gnrr-2', 'pqn-80', 'atgl-1', 'B0432.8', 'C44E4.5', 'K06B9.2', 'bet-1', 'ZC506.1', 'F40E10.6', 'Y51F10.2', 'unc-73', 'K10D3.4'}\n",
      "vha-13\n",
      "T21B10.3\n",
      "Y43F8C.6\n",
      "gnrr-2\n",
      "pqn-80\n",
      "atgl-1\n",
      "B0432.8\n",
      "C44E4.5\n",
      "K06B9.2\n",
      "bet-1\n",
      "ZC506.1\n",
      "F40E10.6\n",
      "Y51F10.2\n",
      "unc-73\n",
      "K10D3.4\n",
      "m5\n",
      "{'vha-13', 'T21B10.3', 'atgl-1', 'B0432.8', 'C44E4.5', 'K06B9.2', 'bet-1', 'ZC506.1', 'F40E10.6', 'unc-73'}\n",
      "vha-13\n",
      "T21B10.3\n",
      "atgl-1\n",
      "B0432.8\n",
      "C44E4.5\n",
      "K06B9.2\n",
      "bet-1\n",
      "ZC506.1\n",
      "F40E10.6\n",
      "unc-73\n"
     ]
    }
   ],
   "source": [
    "all_nascent_genes = {}\n",
    "for key in keys:\n",
    "    nascent_genes = set()\n",
    "    print(key)\n",
    "    for gene in genes_per_celltype[key]:\n",
    "        spliced_data = data[key].layers[\"spliced\"][:, data[key].var.index == gene].toarray()\n",
    "        avg_count = (spliced_data.sum(0)/spliced_data.shape[0])[0]\n",
    "        if avg_count > 10:\n",
    "            nascent_genes.add(gene)\n",
    "    print(nascent_genes)\n",
    "    all_nascent_genes[key] = nascent_genes\n",
    "    for gene in nascent_genes:\n",
    "        print(gene)"
   ]
  },
  {
   "cell_type": "code",
   "execution_count": 13,
   "metadata": {},
   "outputs": [
    {
     "data": {
      "text/plain": [
       "{'m1': {'B0432.8',\n",
       "  'F40E10.6',\n",
       "  'K06B9.2',\n",
       "  'K10D3.4',\n",
       "  'T21B10.3',\n",
       "  'Y43F8C.6',\n",
       "  'Y51F10.2',\n",
       "  'ZC506.1',\n",
       "  'alg-5',\n",
       "  'atgl-1',\n",
       "  'bet-1',\n",
       "  'hum-2',\n",
       "  'pqn-80',\n",
       "  'ssl-1',\n",
       "  'unc-62',\n",
       "  'unc-73',\n",
       "  'vha-13'},\n",
       " 'm3': {'B0432.8',\n",
       "  'C44E4.5',\n",
       "  'F40E10.6',\n",
       "  'K06B9.2',\n",
       "  'K10D3.4',\n",
       "  'T21B10.3',\n",
       "  'Y43F8C.6',\n",
       "  'Y51F10.2',\n",
       "  'ZC506.1',\n",
       "  'atgl-1',\n",
       "  'bet-1',\n",
       "  'gnrr-2',\n",
       "  'pqn-80',\n",
       "  'unc-73',\n",
       "  'vha-13'},\n",
       " 'm5': {'B0432.8',\n",
       "  'C44E4.5',\n",
       "  'F40E10.6',\n",
       "  'K06B9.2',\n",
       "  'T21B10.3',\n",
       "  'ZC506.1',\n",
       "  'atgl-1',\n",
       "  'bet-1',\n",
       "  'unc-73',\n",
       "  'vha-13'}}"
      ]
     },
     "execution_count": 13,
     "metadata": {},
     "output_type": "execute_result"
    }
   ],
   "source": [
    "all_nascent_genes"
   ]
  },
  {
   "cell_type": "code",
   "execution_count": 17,
   "metadata": {},
   "outputs": [
    {
     "data": {
      "text/plain": [
       "{'B0432.8',\n",
       " 'F40E10.6',\n",
       " 'K06B9.2',\n",
       " 'K10D3.4',\n",
       " 'T21B10.3',\n",
       " 'Y43F8C.6',\n",
       " 'Y51F10.2',\n",
       " 'ZC506.1',\n",
       " 'alg-5',\n",
       " 'atgl-1',\n",
       " 'bet-1',\n",
       " 'hum-2',\n",
       " 'pqn-80',\n",
       " 'ssl-1',\n",
       " 'unc-62',\n",
       " 'unc-73',\n",
       " 'vha-13'}"
      ]
     },
     "execution_count": 17,
     "metadata": {},
     "output_type": "execute_result"
    }
   ],
   "source": [
    "all_nascent_genes[\"m1\"]"
   ]
  },
  {
   "cell_type": "code",
   "execution_count": 49,
   "metadata": {},
   "outputs": [
    {
     "name": "stdout",
     "output_type": "stream",
     "text": [
      "spliced == exonic, unspliced == intronic\n",
      "m1\n",
      "['vha-13', 'ssl-1', 'T21B10.3', 'Y43F8C.6', 'unc-62', 'pqn-80', 'atgl-1', 'hum-2', 'alg-5', 'B0432.8', 'K06B9.2', 'bet-1', 'ZC506.1', 'F40E10.6', 'Y51F10.2', 'unc-73', 'K10D3.4']\n",
      "spliced [91.75, 173.75, 243.5, 14.75, 93.25, 126.5, 87.0, 134.5, 113.75, 22.5, 15.75, 227.0, 148.75, 28.25, 363.0, 20.75, 10.75]\n",
      "unspliced [32.0, 27.0, 127.75, 55.25, 13.25, 16.5, 27.0, 26.25, 17.5, 28.75, 57.75, 33.25, 37.5, 21.5, 22.75, 36.75, 57.25]\n",
      "m3\n",
      "['vha-13', 'T21B10.3', 'Y43F8C.6', 'gnrr-2', 'pqn-80', 'atgl-1', 'B0432.8', 'C44E4.5', 'K06B9.2', 'bet-1', 'ZC506.1', 'F40E10.6', 'Y51F10.2', 'unc-73', 'K10D3.4']\n",
      "spliced [129.25, 289.0, 17.5, 17.25, 120.0, 106.25, 38.5, 123.0, 28.0, 208.5, 139.75, 33.75, 504.25, 16.25, 18.0]\n",
      "unspliced [25.5, 145.0, 66.75, 32.25, 18.75, 34.75, 28.5, 56.75, 81.25, 49.0, 58.5, 25.75, 33.0, 60.5, 85.0]\n",
      "m5\n",
      "['vha-13', 'T21B10.3', 'atgl-1', 'B0432.8', 'C44E4.5', 'K06B9.2', 'bet-1', 'ZC506.1', 'F40E10.6', 'unc-73']\n",
      "spliced [75.5, 184.25, 67.0, 15.75, 83.0, 12.0, 182.25, 95.5, 18.75, 13.25]\n",
      "unspliced [30.75, 121.25, 27.0, 32.0, 21.25, 59.0, 22.75, 26.5, 19.0, 27.75]\n"
     ]
    }
   ],
   "source": [
    "key = \"m1\"\n",
    "layer = \"spliced\"\n",
    "\n",
    "print(\"spliced == exonic, unspliced == intronic\")\n",
    "\n",
    "for key in keys:\n",
    "    genes = list(all_nascent_genes[key])\n",
    "    print(key)\n",
    "    print(genes)\n",
    "    for layer in [\"spliced\", \"unspliced\"]:\n",
    "        spliced_matrix = data[key][:,genes].layers[layer]\n",
    "        result = (spliced_matrix.sum(0)/spliced_matrix.shape[0]).tolist()[0]\n",
    "        print(layer, result)"
   ]
  },
  {
   "cell_type": "code",
   "execution_count": 43,
   "metadata": {},
   "outputs": [
    {
     "name": "stdout",
     "output_type": "stream",
     "text": [
      "['m1', 'm3', 'm5']\n"
     ]
    }
   ],
   "source": [
    "print(keys)"
   ]
  },
  {
   "cell_type": "markdown",
   "metadata": {},
   "source": [
    "# Check if there are any genes whose expression is unique to a given group"
   ]
  },
  {
   "cell_type": "markdown",
   "metadata": {},
   "source": [
    "Genes present in m5, but not present in m3"
   ]
  },
  {
   "cell_type": "code",
   "execution_count": 12,
   "metadata": {},
   "outputs": [
    {
     "data": {
      "text/plain": [
       "{'F18A12.7'}"
      ]
     },
     "execution_count": 12,
     "metadata": {},
     "output_type": "execute_result"
    }
   ],
   "source": [
    "genes_per_celltype[\"m5\"].difference(genes_per_celltype[\"m3\"])"
   ]
  },
  {
   "cell_type": "markdown",
   "metadata": {},
   "source": [
    "Genes present in m3, but not present in m5"
   ]
  },
  {
   "cell_type": "code",
   "execution_count": 13,
   "metadata": {},
   "outputs": [
    {
     "data": {
      "text/plain": [
       "{'C24A3.1',\n",
       " 'C44E4.5',\n",
       " 'D1065.2',\n",
       " 'D2096.10',\n",
       " 'Y54G2A.21',\n",
       " 'ZK673.11',\n",
       " 'acr-7',\n",
       " 'his-57',\n",
       " 'mks-5'}"
      ]
     },
     "execution_count": 13,
     "metadata": {},
     "output_type": "execute_result"
    }
   ],
   "source": [
    "genes_per_celltype[\"m3\"].difference(genes_per_celltype[\"m1\"])"
   ]
  },
  {
   "cell_type": "markdown",
   "metadata": {},
   "source": [
    "The other direction"
   ]
  },
  {
   "cell_type": "code",
   "execution_count": 14,
   "metadata": {},
   "outputs": [
    {
     "data": {
      "text/plain": [
       "{'F18A12.7', 'alg-5', 'eps-8', 'hum-2', 'ssl-1', 'unc-62'}"
      ]
     },
     "execution_count": 14,
     "metadata": {},
     "output_type": "execute_result"
    }
   ],
   "source": [
    "genes_per_celltype[\"m1\"].difference(genes_per_celltype[\"m3\"])"
   ]
  },
  {
   "cell_type": "code",
   "execution_count": 15,
   "metadata": {},
   "outputs": [
    {
     "data": {
      "text/plain": [
       "{'C24A3.1', 'Y51F10.2', 'acr-7', 'his-57', 'pqn-80', 'rga-9'}"
      ]
     },
     "execution_count": 15,
     "metadata": {},
     "output_type": "execute_result"
    }
   ],
   "source": [
    "genes_per_celltype[\"m3\"].difference(genes_per_celltype[\"m5\"])"
   ]
  },
  {
   "cell_type": "markdown",
   "metadata": {},
   "source": [
    "And the extremes"
   ]
  },
  {
   "cell_type": "code",
   "execution_count": 16,
   "metadata": {},
   "outputs": [
    {
     "data": {
      "text/plain": [
       "{'Y51F10.2', 'alg-5', 'eps-8', 'hum-2', 'pqn-80', 'rga-9', 'ssl-1', 'unc-62'}"
      ]
     },
     "execution_count": 16,
     "metadata": {},
     "output_type": "execute_result"
    }
   ],
   "source": [
    "genes_per_celltype[\"m1\"].difference(genes_per_celltype[\"m5\"])"
   ]
  },
  {
   "cell_type": "code",
   "execution_count": 17,
   "metadata": {},
   "outputs": [
    {
     "data": {
      "text/plain": [
       "{'C44E4.5', 'D1065.2', 'D2096.10', 'Y54G2A.21', 'ZK673.11', 'mks-5'}"
      ]
     },
     "execution_count": 17,
     "metadata": {},
     "output_type": "execute_result"
    }
   ],
   "source": [
    "genes_per_celltype[\"m5\"].difference(genes_per_celltype[\"m1\"])"
   ]
  },
  {
   "cell_type": "markdown",
   "metadata": {},
   "source": [
    "# Pick up the most highly expressed intronic reads, for subsequent checking with DESeq2"
   ]
  },
  {
   "cell_type": "code",
   "execution_count": 44,
   "metadata": {},
   "outputs": [
    {
     "name": "stdout",
     "output_type": "stream",
     "text": [
      "m1\n",
      "[(298.25, 'plg-1'), (273.75, 'irld-23'), (127.75, 'T21B10.3'), (57.75, 'K06B9.2'), (57.25, 'K10D3.4')]\n",
      "{'plg-1', 'K06B9.2', 'irld-23', 'T21B10.3', 'K10D3.4'}\n",
      "m3\n",
      "[(302.75, 'plg-1'), (299.25, 'irld-23'), (145.0, 'T21B10.3'), (109.25, 'mks-5'), (85.0, 'K10D3.4')]\n",
      "{'plg-1', 'mks-5', 'irld-23', 'T21B10.3', 'K10D3.4'}\n",
      "m5\n",
      "[(265.0, 'irld-23'), (200.0, 'plg-1'), (121.25, 'T21B10.3'), (59.0, 'K06B9.2'), (52.75, 'K10D3.4')]\n",
      "{'plg-1', 'K06B9.2', 'irld-23', 'T21B10.3', 'K10D3.4'}\n"
     ]
    }
   ],
   "source": [
    "high_intronic_genes = set()\n",
    "for key in keys:\n",
    "    print(key)\n",
    "    gene_list = list(genes_per_celltype[key])\n",
    "    expr_array = data[key][:, gene_list].layers[\"unspliced\"]\n",
    "    result = sorted(zip((expr_array.sum(0)/expr_array.shape[0]).tolist()[0], gene_list), reverse=True)[:5]\n",
    "    current_set = set(i[1] for i in result)\n",
    "    print(result)\n",
    "    print(current_set)\n",
    "    high_intronic_genes.update(current_set)"
   ]
  },
  {
   "cell_type": "markdown",
   "metadata": {},
   "source": [
    "The way to read these results would be as follows:\n",
    "\n",
    "363.0 -- there are on average 363 (unique) reads in the group\n",
    "\n",
    "Y51F10.2 -- for the gene Y51F10.2\n",
    "\n",
    "[(363.0, 'Y51F10.2'), (243.5, 'T21B10.3'), (227.0, 'bet-1'), (173.75, 'ssl-1'), (148.75, 'ZC506.1')]"
   ]
  },
  {
   "cell_type": "markdown",
   "metadata": {},
   "source": [
    "Most importantly, the gene Y51F10.2 stands out. It is completely absent in group M5, and only present, and highly expressef in groups m3 and m1. It appears that mature oocytes turn on transcription of this gene to prepare them for their future fate."
   ]
  },
  {
   "cell_type": "markdown",
   "metadata": {},
   "source": [
    "We will use the respective lists of genes to check if they have differential spliced counts between groups using DESeq2."
   ]
  },
  {
   "cell_type": "code",
   "execution_count": 19,
   "metadata": {},
   "outputs": [
    {
     "data": {
      "text/plain": [
       "{'C44E4.5', 'T21B10.3', 'Y51F10.2', 'ZC506.1', 'bet-1', 'ssl-1', 'vha-13'}"
      ]
     },
     "execution_count": 19,
     "metadata": {},
     "output_type": "execute_result"
    }
   ],
   "source": [
    "high_intronic_genes"
   ]
  },
  {
   "cell_type": "markdown",
   "metadata": {},
   "source": [
    "# Some further exploratory analysis looking at plg-1"
   ]
  },
  {
   "cell_type": "code",
   "execution_count": 45,
   "metadata": {},
   "outputs": [
    {
     "data": {
      "text/plain": [
       "array([[0],\n",
       "       [0],\n",
       "       [9],\n",
       "       [0]], dtype=uint32)"
      ]
     },
     "execution_count": 45,
     "metadata": {},
     "output_type": "execute_result"
    }
   ],
   "source": [
    "data[\"m5\"][:,'plg-1'].layers[\"spliced\"].toarray()"
   ]
  },
  {
   "cell_type": "code",
   "execution_count": 46,
   "metadata": {},
   "outputs": [
    {
     "data": {
      "text/plain": [
       "array([[1],\n",
       "       [5],\n",
       "       [0],\n",
       "       [0]], dtype=uint32)"
      ]
     },
     "execution_count": 46,
     "metadata": {},
     "output_type": "execute_result"
    }
   ],
   "source": [
    "data[\"m3\"][:,'plg-1'].layers[\"spliced\"].toarray()"
   ]
  },
  {
   "cell_type": "code",
   "execution_count": 47,
   "metadata": {},
   "outputs": [
    {
     "data": {
      "text/plain": [
       "array([[0],\n",
       "       [0],\n",
       "       [1],\n",
       "       [0]], dtype=uint32)"
      ]
     },
     "execution_count": 47,
     "metadata": {},
     "output_type": "execute_result"
    }
   ],
   "source": [
    "data[\"m1\"][:,'plg-1'].layers[\"spliced\"].toarray()"
   ]
  },
  {
   "cell_type": "code",
   "execution_count": 48,
   "metadata": {},
   "outputs": [
    {
     "data": {
      "text/plain": [
       "array([[107],\n",
       "       [254],\n",
       "       [113],\n",
       "       [326]], dtype=uint32)"
      ]
     },
     "execution_count": 48,
     "metadata": {},
     "output_type": "execute_result"
    }
   ],
   "source": [
    "data[\"m5\"][:,'plg-1'].layers[\"unspliced\"].toarray()"
   ]
  },
  {
   "cell_type": "code",
   "execution_count": 49,
   "metadata": {},
   "outputs": [
    {
     "data": {
      "text/plain": [
       "array([[244],\n",
       "       [164],\n",
       "       [172],\n",
       "       [631]], dtype=uint32)"
      ]
     },
     "execution_count": 49,
     "metadata": {},
     "output_type": "execute_result"
    }
   ],
   "source": [
    "data[\"m3\"][:,'plg-1'].layers[\"unspliced\"].toarray()"
   ]
  },
  {
   "cell_type": "code",
   "execution_count": 50,
   "metadata": {},
   "outputs": [
    {
     "data": {
      "text/plain": [
       "array([[326],\n",
       "       [138],\n",
       "       [128],\n",
       "       [601]], dtype=uint32)"
      ]
     },
     "execution_count": 50,
     "metadata": {},
     "output_type": "execute_result"
    }
   ],
   "source": [
    "data[\"m1\"][:,'plg-1'].layers[\"unspliced\"].toarray()"
   ]
  },
  {
   "cell_type": "markdown",
   "metadata": {},
   "source": [
    "# Further exploratory analysis looking at total expression"
   ]
  },
  {
   "cell_type": "code",
   "execution_count": 31,
   "metadata": {},
   "outputs": [
    {
     "data": {
      "text/plain": [
       "matrix([[640812],\n",
       "        [656772],\n",
       "        [553987],\n",
       "        [765955]], dtype=uint64)"
      ]
     },
     "execution_count": 31,
     "metadata": {},
     "output_type": "execute_result"
    }
   ],
   "source": [
    "data[\"m5\"].layers[\"spliced\"].sum(1)"
   ]
  },
  {
   "cell_type": "code",
   "execution_count": 33,
   "metadata": {},
   "outputs": [
    {
     "data": {
      "text/plain": [
       "matrix([[ 962905],\n",
       "        [ 927053],\n",
       "        [ 991694],\n",
       "        [1262718]], dtype=uint64)"
      ]
     },
     "execution_count": 33,
     "metadata": {},
     "output_type": "execute_result"
    }
   ],
   "source": [
    "data[\"m3\"].layers[\"spliced\"].sum(1)"
   ]
  },
  {
   "cell_type": "code",
   "execution_count": 34,
   "metadata": {},
   "outputs": [
    {
     "data": {
      "text/plain": [
       "matrix([[ 765955],\n",
       "        [ 762107],\n",
       "        [ 711156],\n",
       "        [1041213]], dtype=uint64)"
      ]
     },
     "execution_count": 34,
     "metadata": {},
     "output_type": "execute_result"
    }
   ],
   "source": [
    "data[\"m1\"].layers[\"spliced\"].sum(1)"
   ]
  },
  {
   "cell_type": "code",
   "execution_count": null,
   "metadata": {},
   "outputs": [],
   "source": []
  },
  {
   "cell_type": "code",
   "execution_count": 35,
   "metadata": {},
   "outputs": [
    {
     "data": {
      "text/plain": [
       "matrix([[2762],\n",
       "        [2878],\n",
       "        [2575],\n",
       "        [2942]], dtype=uint64)"
      ]
     },
     "execution_count": 35,
     "metadata": {},
     "output_type": "execute_result"
    }
   ],
   "source": [
    "data[\"m5\"].layers[\"unspliced\"].sum(1)"
   ]
  },
  {
   "cell_type": "code",
   "execution_count": 36,
   "metadata": {},
   "outputs": [
    {
     "data": {
      "text/plain": [
       "matrix([[3659],\n",
       "        [3008],\n",
       "        [3383],\n",
       "        [4557]], dtype=uint64)"
      ]
     },
     "execution_count": 36,
     "metadata": {},
     "output_type": "execute_result"
    }
   ],
   "source": [
    "data[\"m3\"].layers[\"unspliced\"].sum(1)"
   ]
  },
  {
   "cell_type": "code",
   "execution_count": 37,
   "metadata": {},
   "outputs": [
    {
     "data": {
      "text/plain": [
       "matrix([[2942],\n",
       "        [2483],\n",
       "        [2230],\n",
       "        [4435]], dtype=uint64)"
      ]
     },
     "execution_count": 37,
     "metadata": {},
     "output_type": "execute_result"
    }
   ],
   "source": [
    "data[\"m1\"].layers[\"unspliced\"].sum(1)"
   ]
  }
 ],
 "metadata": {
  "kernelspec": {
   "display_name": "Python 3",
   "language": "python",
   "name": "python3"
  },
  "language_info": {
   "codemirror_mode": {
    "name": "ipython",
    "version": 3
   },
   "file_extension": ".py",
   "mimetype": "text/x-python",
   "name": "python",
   "nbconvert_exporter": "python",
   "pygments_lexer": "ipython3",
   "version": "3.6.8"
  }
 },
 "nbformat": 4,
 "nbformat_minor": 2
}
